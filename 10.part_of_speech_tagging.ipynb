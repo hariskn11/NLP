{
 "cells": [
  {
   "cell_type": "code",
   "execution_count": 1,
   "metadata": {},
   "outputs": [],
   "source": [
    "import spacy"
   ]
  },
  {
   "cell_type": "code",
   "execution_count": 5,
   "metadata": {},
   "outputs": [],
   "source": [
    "nlp=spacy.load('en_core_web_sm')"
   ]
  },
  {
   "cell_type": "code",
   "execution_count": 8,
   "metadata": {},
   "outputs": [
    {
     "data": {
      "text/plain": [
       "['tok2vec', 'tagger', 'parser', 'attribute_ruler', 'lemmatizer', 'ner']"
      ]
     },
     "execution_count": 8,
     "metadata": {},
     "output_type": "execute_result"
    }
   ],
   "source": [
    "nlp.pipe_names"
   ]
  },
  {
   "cell_type": "code",
   "execution_count": 9,
   "metadata": {},
   "outputs": [
    {
     "name": "stdout",
     "output_type": "stream",
     "text": [
      "Elon | PROPN | proper noun\n",
      "flew | VERB | verb\n",
      "to | ADP | adposition\n",
      "mars | NOUN | noun\n",
      "yesterday | NOUN | noun\n",
      ". | PUNCT | punctuation\n",
      "He | PRON | pronoun\n",
      "carried | VERB | verb\n",
      "briyani | ADJ | adjective\n",
      "masala | NOUN | noun\n",
      "with | ADP | adposition\n",
      "him | PRON | pronoun\n"
     ]
    }
   ],
   "source": [
    "doc=nlp('Elon flew to mars yesterday. He carried briyani masala with him')\n",
    "for token in doc:\n",
    "    print(token, \"|\",token.pos_,\"|\",spacy.explain(token.pos_))"
   ]
  },
  {
   "cell_type": "code",
   "execution_count": 13,
   "metadata": {},
   "outputs": [
    {
     "name": "stdout",
     "output_type": "stream",
     "text": [
      "Wow | INTJ | interjection | UH | interjection\n",
      "! | PUNCT | punctuation | . | punctuation mark, sentence closer\n",
      "Dr. | PROPN | proper noun | NNP | noun, proper singular\n",
      "Stranger | PROPN | proper noun | NNP | noun, proper singular\n",
      "made | VERB | verb | VBD | verb, past tense\n",
      "265 | NUM | numeral | CD | cardinal number\n",
      "million | NUM | numeral | CD | cardinal number\n",
      "$ | NUM | numeral | CD | cardinal number\n",
      "on | ADP | adposition | IN | conjunction, subordinating or preposition\n",
      "the | DET | determiner | DT | determiner\n",
      "very | ADV | adverb | RB | adverb\n",
      "first | ADJ | adjective | JJ | adjective (English), other noun-modifier (Chinese)\n",
      "day | NOUN | noun | NN | noun, singular or mass\n"
     ]
    }
   ],
   "source": [
    "doc=nlp('Wow! Dr. Stranger made 265 million $ on the very first day')\n",
    "for token in doc:\n",
    "    print(token, \"|\",token.pos_,\"|\",spacy.explain(token.pos_),\"|\", token.tag_,\"|\", spacy.explain(token.tag_))"
   ]
  },
  {
   "cell_type": "code",
   "execution_count": 39,
   "metadata": {},
   "outputs": [],
   "source": [
    "earning=nlp(''' Microsoft Corp. today etc. announced the following results for the quarter ended June 30, 2023, as compared to the corresponding period of last fiscal year:\n",
    "·        Revenue was $56.2 billion and increased 8% (up 10% in constant currency)\n",
    "·        Operating income was $24.3 billion and increased 18% (up 21% in constant currency)\n",
    "·        Net income was $20.1 billion and increased 20% (up 23% in constant currency)\n",
    "·        Diluted earnings per share was $2.69 and increased 21% (up 23% in constant currency)''')\n",
    "filtered_data=[]\n",
    "for token in earning:\n",
    "    if (token.pos_ not in ['SPACE','PUNCT','X']): #we removed blank space, punctuation and unknown others for analysis\n",
    "        # print(token,\"|\",token.pos_,\"|\",spacy.explain(token.pos_))\n",
    "        filtered_data.append(token)"
   ]
  },
  {
   "cell_type": "code",
   "execution_count": 40,
   "metadata": {},
   "outputs": [
    {
     "data": {
      "text/plain": [
       "[Microsoft,\n",
       " Corp.,\n",
       " today,\n",
       " announced,\n",
       " the,\n",
       " following,\n",
       " results,\n",
       " for,\n",
       " the,\n",
       " quarter,\n",
       " ended,\n",
       " June,\n",
       " 30,\n",
       " 2023,\n",
       " as,\n",
       " compared,\n",
       " to,\n",
       " the,\n",
       " corresponding,\n",
       " period,\n",
       " of,\n",
       " last,\n",
       " fiscal,\n",
       " year,\n",
       " Revenue,\n",
       " was,\n",
       " $,\n",
       " 56.2,\n",
       " billion,\n",
       " and,\n",
       " increased,\n",
       " 8,\n",
       " %,\n",
       " up,\n",
       " 10,\n",
       " %,\n",
       " in,\n",
       " constant,\n",
       " currency,\n",
       " Operating,\n",
       " income,\n",
       " was,\n",
       " $,\n",
       " 24.3,\n",
       " billion,\n",
       " and,\n",
       " increased,\n",
       " 18,\n",
       " %,\n",
       " up,\n",
       " 21,\n",
       " %,\n",
       " in,\n",
       " constant,\n",
       " currency,\n",
       " Net,\n",
       " income,\n",
       " was,\n",
       " $,\n",
       " 20.1,\n",
       " billion,\n",
       " and,\n",
       " increased,\n",
       " 20,\n",
       " %,\n",
       " up,\n",
       " 23,\n",
       " %,\n",
       " in,\n",
       " constant,\n",
       " currency,\n",
       " Diluted,\n",
       " earnings,\n",
       " per,\n",
       " share,\n",
       " was,\n",
       " $,\n",
       " 2.69,\n",
       " and,\n",
       " increased,\n",
       " 21,\n",
       " %,\n",
       " up,\n",
       " 23,\n",
       " %,\n",
       " in,\n",
       " constant,\n",
       " currency]"
      ]
     },
     "execution_count": 40,
     "metadata": {},
     "output_type": "execute_result"
    }
   ],
   "source": [
    "filtered_data"
   ]
  },
  {
   "cell_type": "code",
   "execution_count": 41,
   "metadata": {},
   "outputs": [
    {
     "data": {
      "text/plain": [
       "{103: 9,\n",
       " 96: 3,\n",
       " 92: 22,\n",
       " 101: 2,\n",
       " 100: 10,\n",
       " 90: 3,\n",
       " 85: 8,\n",
       " 93: 17,\n",
       " 97: 15,\n",
       " 98: 1,\n",
       " 84: 8,\n",
       " 87: 4,\n",
       " 99: 4,\n",
       " 89: 4,\n",
       " 86: 4}"
      ]
     },
     "execution_count": 41,
     "metadata": {},
     "output_type": "execute_result"
    }
   ],
   "source": [
    "count=earning.count_by(spacy.attrs.POS)\n",
    "count"
   ]
  },
  {
   "cell_type": "code",
   "execution_count": 44,
   "metadata": {},
   "outputs": [
    {
     "data": {
      "text/plain": [
       "'PROPN'"
      ]
     },
     "execution_count": 44,
     "metadata": {},
     "output_type": "execute_result"
    }
   ],
   "source": [
    "earning.vocab[96].text"
   ]
  },
  {
   "cell_type": "code",
   "execution_count": 45,
   "metadata": {},
   "outputs": [
    {
     "name": "stdout",
     "output_type": "stream",
     "text": [
      "SPACE | 9\n",
      "PROPN | 3\n",
      "NOUN | 22\n",
      "X | 2\n",
      "VERB | 10\n",
      "DET | 3\n",
      "ADP | 8\n",
      "NUM | 17\n",
      "PUNCT | 15\n",
      "SCONJ | 1\n",
      "ADJ | 8\n",
      "AUX | 4\n",
      "SYM | 4\n",
      "CCONJ | 4\n",
      "ADV | 4\n"
     ]
    }
   ],
   "source": [
    "for i,j in count.items():\n",
    "    print(earning.vocab[i].text,\"|\",j)"
   ]
  }
 ],
 "metadata": {
  "kernelspec": {
   "display_name": "Python 3",
   "language": "python",
   "name": "python3"
  },
  "language_info": {
   "codemirror_mode": {
    "name": "ipython",
    "version": 3
   },
   "file_extension": ".py",
   "mimetype": "text/x-python",
   "name": "python",
   "nbconvert_exporter": "python",
   "pygments_lexer": "ipython3",
   "version": "3.10.5"
  }
 },
 "nbformat": 4,
 "nbformat_minor": 2
}
