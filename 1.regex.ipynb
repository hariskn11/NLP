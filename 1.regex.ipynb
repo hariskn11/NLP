{
 "cells": [
  {
   "cell_type": "code",
   "execution_count": 5,
   "metadata": {},
   "outputs": [],
   "source": [
    "import re"
   ]
  },
  {
   "cell_type": "code",
   "execution_count": 6,
   "metadata": {},
   "outputs": [],
   "source": [
    "chat1 = 'codebasics: you ask lot of questions ② 1235678912, abc@xyz.com'\n",
    "chat2 = 'codebasics: here it is: (123)-567-8912, abc@xyz.com'\n",
    "chat3 = 'codebasics: yes, phone: 1235678912 email: abc@xyz.com'"
   ]
  },
  {
   "cell_type": "code",
   "execution_count": 7,
   "metadata": {},
   "outputs": [
    {
     "data": {
      "text/plain": [
       "['(123)-567-8912']"
      ]
     },
     "execution_count": 7,
     "metadata": {},
     "output_type": "execute_result"
    }
   ],
   "source": [
    "# pattern=\"\\d{10}\"\n",
    "pattern=\"\\(\\d{3}\\)-\\d{3}-\\d{4}\"\n",
    "matches=re.findall(pattern,chat2)\n",
    "matches"
   ]
  },
  {
   "cell_type": "code",
   "execution_count": 8,
   "metadata": {},
   "outputs": [],
   "source": [
    "chat1='codebasics: Hello, I am having an issue with my order # 412889912'\n",
    "chat2='codebasics: I have a problem with my order number 412889914'\n",
    "chat3='codebasics: My order 412889918 is having an issue, I was charged 300$ when online it says 280$'"
   ]
  },
  {
   "cell_type": "code",
   "execution_count": 9,
   "metadata": {},
   "outputs": [
    {
     "data": {
      "text/plain": [
       "['412889912']"
      ]
     },
     "execution_count": 9,
     "metadata": {},
     "output_type": "execute_result"
    }
   ],
   "source": [
    "pattern=\"order[^\\d]*(\\d*)\"\n",
    "matches=re.findall(pattern,chat1)\n",
    "matches"
   ]
  },
  {
   "cell_type": "code",
   "execution_count": 10,
   "metadata": {},
   "outputs": [
    {
     "data": {
      "text/plain": [
       "['412889914']"
      ]
     },
     "execution_count": 10,
     "metadata": {},
     "output_type": "execute_result"
    }
   ],
   "source": [
    "matches2=re.findall(pattern,chat2)\n",
    "matches2"
   ]
  },
  {
   "cell_type": "code",
   "execution_count": 11,
   "metadata": {},
   "outputs": [
    {
     "data": {
      "text/plain": [
       "['412889918']"
      ]
     },
     "execution_count": 11,
     "metadata": {},
     "output_type": "execute_result"
    }
   ],
   "source": [
    "matches3=re.findall(pattern,chat3)\n",
    "matches3"
   ]
  },
  {
   "cell_type": "code",
   "execution_count": 12,
   "metadata": {},
   "outputs": [],
   "source": [
    "text='''Born\tElon Reeve Musk\n",
    "June 28, 1971 (age 52)\n",
    "Pretoria, Transvaal, South Africa\n",
    "Citizenship\t\n",
    "South Africa\n",
    "Canada\n",
    "United States\n",
    "Education\tUniversity of Pennsylvania (BA, BS)\n",
    "Title\t\n",
    "Founder, CEO, and chief engineer of SpaceX\n",
    "CEO and product architect of Tesla, Inc.\n",
    "Owner, CTO and Executive Chairman of X (formerly Twitter)\n",
    "President of the Musk Foundation\n",
    "Founder of The Boring Company, X Corp., and xAI\n",
    "Co-founder of Neuralink, OpenAI, Zip2, and X.com (part of PayPal)\n",
    "Spouses\t\n",
    "Justine Wilson\n",
    "​\n",
    "​(m. 2000; div. 2008)​\n",
    "Talulah Riley\n",
    "​\n",
    "​(m. 2010; div. 2012)​\n",
    "​\n",
    "​(m. 2013; div. 2016)​\n",
    "Partners\t\n",
    "Amber Heard (2015–2017)[1]\n",
    "Grimes (2018–2021)[2]\n",
    "Children\t11[a][4]\n",
    "Parents\t\n",
    "Errol Musk\n",
    "Maye Musk\n",
    "Relatives\t\n",
    "Kimbal Musk (brother)\n",
    "Tosca Musk (sister)\n",
    "Lyndon Rive (cousin)\n",
    "Family\tMusk family'''"
   ]
  },
  {
   "cell_type": "code",
   "execution_count": 13,
   "metadata": {},
   "outputs": [
    {
     "data": {
      "text/plain": [
       "['52']"
      ]
     },
     "execution_count": 13,
     "metadata": {},
     "output_type": "execute_result"
    }
   ],
   "source": [
    "pattern=\"age (\\d+)\"\n",
    "matches=re.findall(pattern,text)\n",
    "matches"
   ]
  },
  {
   "cell_type": "code",
   "execution_count": 16,
   "metadata": {},
   "outputs": [
    {
     "data": {
      "text/plain": [
       "'Elon Reeve Musk'"
      ]
     },
     "execution_count": 16,
     "metadata": {},
     "output_type": "execute_result"
    }
   ],
   "source": [
    "pattern=\"Born(.*)\"\n",
    "matches=re.findall(pattern,text)\n",
    "matches[0].strip() #strip() to remove the blank and extra spaces"
   ]
  },
  {
   "cell_type": "code",
   "execution_count": 18,
   "metadata": {},
   "outputs": [
    {
     "data": {
      "text/plain": [
       "'June 28, 1971'"
      ]
     },
     "execution_count": 18,
     "metadata": {},
     "output_type": "execute_result"
    }
   ],
   "source": [
    "pattern=\"Born.*\\n(.*)\\(age\"\n",
    "matches=re.findall(pattern,text)\n",
    "matches[0].strip()"
   ]
  },
  {
   "cell_type": "code",
   "execution_count": 19,
   "metadata": {},
   "outputs": [
    {
     "data": {
      "text/plain": [
       "'Pretoria, Transvaal, South Africa'"
      ]
     },
     "execution_count": 19,
     "metadata": {},
     "output_type": "execute_result"
    }
   ],
   "source": [
    "pattern=\"\\(age.*\\n(.*)\"\n",
    "matches=re.findall(pattern,text)\n",
    "matches[0].strip()"
   ]
  },
  {
   "cell_type": "code",
   "execution_count": 25,
   "metadata": {},
   "outputs": [],
   "source": [
    "def get_pattern_match(pattern,text):\n",
    "    matches=re.findall(pattern,text)\n",
    "    if matches:\n",
    "        return matches[0]"
   ]
  },
  {
   "cell_type": "code",
   "execution_count": 26,
   "metadata": {},
   "outputs": [
    {
     "data": {
      "text/plain": [
       "'Pretoria, Transvaal, South Africa'"
      ]
     },
     "execution_count": 26,
     "metadata": {},
     "output_type": "execute_result"
    }
   ],
   "source": [
    "get_pattern_match(\"\\(age.*\\n(.*)\",text)"
   ]
  },
  {
   "cell_type": "code",
   "execution_count": 31,
   "metadata": {},
   "outputs": [
    {
     "data": {
      "text/plain": [
       "{'name': 'Elon Reeve Musk',\n",
       " 'age': 52,\n",
       " 'birth_date': 'June 28, 1971',\n",
       " 'birth_place': 'Pretoria, Transvaal, South Africa'}"
      ]
     },
     "execution_count": 31,
     "metadata": {},
     "output_type": "execute_result"
    }
   ],
   "source": [
    "def get_personal_info(text):\n",
    "    name= get_pattern_match(\"Born(.*)\",text)\n",
    "    age= get_pattern_match(\"age (\\d+)\",text)\n",
    "    birth_date= get_pattern_match(\"Born.*\\n(.*)\\(age\",text)\n",
    "    birth_place= get_pattern_match(\"\\(age.*\\n(.*)\",text)\n",
    "    return{\n",
    "        \"name\":name.strip(),\n",
    "        \"age\":int(age),\n",
    "        \"birth_date\":birth_date.strip(),\n",
    "        \"birth_place\":birth_place.strip()}\n",
    "    \n",
    "    \n",
    "get_personal_info(text)"
   ]
  }
 ],
 "metadata": {
  "kernelspec": {
   "display_name": "Python 3",
   "language": "python",
   "name": "python3"
  },
  "language_info": {
   "codemirror_mode": {
    "name": "ipython",
    "version": 3
   },
   "file_extension": ".py",
   "mimetype": "text/x-python",
   "name": "python",
   "nbconvert_exporter": "python",
   "pygments_lexer": "ipython3",
   "version": "3.10.5"
  }
 },
 "nbformat": 4,
 "nbformat_minor": 2
}
