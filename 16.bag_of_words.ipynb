{
 "cells": [
  {
   "cell_type": "code",
   "execution_count": 2,
   "metadata": {},
   "outputs": [],
   "source": [
    "import pandas as pd\n",
    "import numpy as np"
   ]
  },
  {
   "cell_type": "code",
   "execution_count": 4,
   "metadata": {},
   "outputs": [
    {
     "data": {
      "text/html": [
       "<div>\n",
       "<style scoped>\n",
       "    .dataframe tbody tr th:only-of-type {\n",
       "        vertical-align: middle;\n",
       "    }\n",
       "\n",
       "    .dataframe tbody tr th {\n",
       "        vertical-align: top;\n",
       "    }\n",
       "\n",
       "    .dataframe thead th {\n",
       "        text-align: right;\n",
       "    }\n",
       "</style>\n",
       "<table border=\"1\" class=\"dataframe\">\n",
       "  <thead>\n",
       "    <tr style=\"text-align: right;\">\n",
       "      <th></th>\n",
       "      <th>Category</th>\n",
       "      <th>Message</th>\n",
       "    </tr>\n",
       "  </thead>\n",
       "  <tbody>\n",
       "    <tr>\n",
       "      <th>0</th>\n",
       "      <td>ham</td>\n",
       "      <td>Go until jurong point, crazy.. Available only ...</td>\n",
       "    </tr>\n",
       "    <tr>\n",
       "      <th>1</th>\n",
       "      <td>ham</td>\n",
       "      <td>Ok lar... Joking wif u oni...</td>\n",
       "    </tr>\n",
       "    <tr>\n",
       "      <th>2</th>\n",
       "      <td>spam</td>\n",
       "      <td>Free entry in 2 a wkly comp to win FA Cup fina...</td>\n",
       "    </tr>\n",
       "    <tr>\n",
       "      <th>3</th>\n",
       "      <td>ham</td>\n",
       "      <td>U dun say so early hor... U c already then say...</td>\n",
       "    </tr>\n",
       "    <tr>\n",
       "      <th>4</th>\n",
       "      <td>ham</td>\n",
       "      <td>Nah I don't think he goes to usf, he lives aro...</td>\n",
       "    </tr>\n",
       "  </tbody>\n",
       "</table>\n",
       "</div>"
      ],
      "text/plain": [
       "  Category                                            Message\n",
       "0      ham  Go until jurong point, crazy.. Available only ...\n",
       "1      ham                      Ok lar... Joking wif u oni...\n",
       "2     spam  Free entry in 2 a wkly comp to win FA Cup fina...\n",
       "3      ham  U dun say so early hor... U c already then say...\n",
       "4      ham  Nah I don't think he goes to usf, he lives aro..."
      ]
     },
     "execution_count": 4,
     "metadata": {},
     "output_type": "execute_result"
    }
   ],
   "source": [
    "df=pd.read_csv('spam.csv')\n",
    "df.head()"
   ]
  },
  {
   "cell_type": "code",
   "execution_count": 7,
   "metadata": {},
   "outputs": [
    {
     "data": {
      "text/plain": [
       "Category\n",
       "ham     4825\n",
       "spam     747\n",
       "Name: count, dtype: int64"
      ]
     },
     "execution_count": 7,
     "metadata": {},
     "output_type": "execute_result"
    }
   ],
   "source": [
    "df.Category.value_counts()"
   ]
  },
  {
   "cell_type": "code",
   "execution_count": 9,
   "metadata": {},
   "outputs": [],
   "source": [
    "df['spam']=df['Category'].apply(lambda x: 1 if x=='spam' else 0)"
   ]
  },
  {
   "cell_type": "code",
   "execution_count": 12,
   "metadata": {},
   "outputs": [
    {
     "data": {
      "text/html": [
       "<div>\n",
       "<style scoped>\n",
       "    .dataframe tbody tr th:only-of-type {\n",
       "        vertical-align: middle;\n",
       "    }\n",
       "\n",
       "    .dataframe tbody tr th {\n",
       "        vertical-align: top;\n",
       "    }\n",
       "\n",
       "    .dataframe thead th {\n",
       "        text-align: right;\n",
       "    }\n",
       "</style>\n",
       "<table border=\"1\" class=\"dataframe\">\n",
       "  <thead>\n",
       "    <tr style=\"text-align: right;\">\n",
       "      <th></th>\n",
       "      <th>Category</th>\n",
       "      <th>Message</th>\n",
       "      <th>spam</th>\n",
       "    </tr>\n",
       "  </thead>\n",
       "  <tbody>\n",
       "    <tr>\n",
       "      <th>0</th>\n",
       "      <td>ham</td>\n",
       "      <td>Go until jurong point, crazy.. Available only ...</td>\n",
       "      <td>0</td>\n",
       "    </tr>\n",
       "    <tr>\n",
       "      <th>1</th>\n",
       "      <td>ham</td>\n",
       "      <td>Ok lar... Joking wif u oni...</td>\n",
       "      <td>0</td>\n",
       "    </tr>\n",
       "    <tr>\n",
       "      <th>2</th>\n",
       "      <td>spam</td>\n",
       "      <td>Free entry in 2 a wkly comp to win FA Cup fina...</td>\n",
       "      <td>1</td>\n",
       "    </tr>\n",
       "    <tr>\n",
       "      <th>3</th>\n",
       "      <td>ham</td>\n",
       "      <td>U dun say so early hor... U c already then say...</td>\n",
       "      <td>0</td>\n",
       "    </tr>\n",
       "    <tr>\n",
       "      <th>4</th>\n",
       "      <td>ham</td>\n",
       "      <td>Nah I don't think he goes to usf, he lives aro...</td>\n",
       "      <td>0</td>\n",
       "    </tr>\n",
       "  </tbody>\n",
       "</table>\n",
       "</div>"
      ],
      "text/plain": [
       "  Category                                            Message  spam\n",
       "0      ham  Go until jurong point, crazy.. Available only ...     0\n",
       "1      ham                      Ok lar... Joking wif u oni...     0\n",
       "2     spam  Free entry in 2 a wkly comp to win FA Cup fina...     1\n",
       "3      ham  U dun say so early hor... U c already then say...     0\n",
       "4      ham  Nah I don't think he goes to usf, he lives aro...     0"
      ]
     },
     "execution_count": 12,
     "metadata": {},
     "output_type": "execute_result"
    }
   ],
   "source": [
    "df.head()"
   ]
  },
  {
   "cell_type": "code",
   "execution_count": 14,
   "metadata": {},
   "outputs": [
    {
     "data": {
      "text/plain": [
       "(5572, 3)"
      ]
     },
     "execution_count": 14,
     "metadata": {},
     "output_type": "execute_result"
    }
   ],
   "source": [
    "df.shape"
   ]
  },
  {
   "cell_type": "code",
   "execution_count": 25,
   "metadata": {},
   "outputs": [],
   "source": [
    "from sklearn.model_selection import train_test_split\n",
    "X_train,X_test,y_train,y_test=train_test_split(df['Message'],df['spam'],test_size=0.2)"
   ]
  },
  {
   "cell_type": "code",
   "execution_count": 26,
   "metadata": {},
   "outputs": [
    {
     "data": {
      "text/plain": [
       "(4457,)"
      ]
     },
     "execution_count": 26,
     "metadata": {},
     "output_type": "execute_result"
    }
   ],
   "source": [
    "X_train.shape"
   ]
  },
  {
   "cell_type": "code",
   "execution_count": 27,
   "metadata": {},
   "outputs": [
    {
     "data": {
      "text/plain": [
       "pandas.core.series.Series"
      ]
     },
     "execution_count": 27,
     "metadata": {},
     "output_type": "execute_result"
    }
   ],
   "source": [
    "type(X_train)"
   ]
  },
  {
   "cell_type": "code",
   "execution_count": 28,
   "metadata": {},
   "outputs": [
    {
     "data": {
      "text/plain": [
       "1431    Don't look back at the building because you ha...\n",
       "1856    K.:)you are the only girl waiting in reception...\n",
       "4005    Well there's a pattern emerging of my friends ...\n",
       "2699                             FROM 88066 LOST £12 HELP\n",
       "1422                          Do you work all this week ?\n",
       "                              ...                        \n",
       "4904                     I;m reaching in another 2 stops.\n",
       "968     What do u want when i come back?.a beautiful n...\n",
       "4433    Dont think you need yellow card for uk travel....\n",
       "1100    Been up to ne thing interesting. Did you have ...\n",
       "4223    Yo you around? A friend of mine's lookin to pi...\n",
       "Name: Message, Length: 4457, dtype: object"
      ]
     },
     "execution_count": 28,
     "metadata": {},
     "output_type": "execute_result"
    }
   ],
   "source": [
    "X_train"
   ]
  },
  {
   "cell_type": "code",
   "execution_count": 29,
   "metadata": {},
   "outputs": [
    {
     "data": {
      "text/plain": [
       "pandas.core.series.Series"
      ]
     },
     "execution_count": 29,
     "metadata": {},
     "output_type": "execute_result"
    }
   ],
   "source": [
    "type(y_train)"
   ]
  },
  {
   "cell_type": "code",
   "execution_count": 30,
   "metadata": {},
   "outputs": [
    {
     "data": {
      "text/plain": [
       "1431    0\n",
       "1856    0\n",
       "4005    0\n",
       "2699    1\n",
       "1422    0\n",
       "       ..\n",
       "4904    0\n",
       "968     0\n",
       "4433    0\n",
       "1100    0\n",
       "4223    0\n",
       "Name: spam, Length: 4457, dtype: int64"
      ]
     },
     "execution_count": 30,
     "metadata": {},
     "output_type": "execute_result"
    }
   ],
   "source": [
    "y_train"
   ]
  },
  {
   "cell_type": "code",
   "execution_count": 33,
   "metadata": {},
   "outputs": [
    {
     "data": {
      "text/plain": [
       "numpy.ndarray"
      ]
     },
     "execution_count": 33,
     "metadata": {},
     "output_type": "execute_result"
    }
   ],
   "source": [
    "type(X_train.values)"
   ]
  },
  {
   "cell_type": "code",
   "execution_count": 35,
   "metadata": {},
   "outputs": [
    {
     "data": {
      "text/plain": [
       "<4457x7793 sparse matrix of type '<class 'numpy.int64'>'\n",
       "\twith 59399 stored elements in Compressed Sparse Row format>"
      ]
     },
     "execution_count": 35,
     "metadata": {},
     "output_type": "execute_result"
    }
   ],
   "source": [
    "from sklearn.feature_extraction.text import CountVectorizer\n",
    "v=CountVectorizer()\n",
    "X_train_cv=v.fit_transform(X_train.values)\n",
    "X_train_cv"
   ]
  },
  {
   "cell_type": "code",
   "execution_count": 36,
   "metadata": {},
   "outputs": [
    {
     "data": {
      "text/plain": [
       "array([[0, 0, 0, ..., 0, 0, 0],\n",
       "       [0, 0, 0, ..., 0, 0, 0],\n",
       "       [0, 0, 0, ..., 0, 0, 0],\n",
       "       ...,\n",
       "       [0, 0, 0, ..., 0, 0, 0],\n",
       "       [0, 0, 0, ..., 0, 0, 0],\n",
       "       [0, 0, 0, ..., 0, 0, 0]], dtype=int64)"
      ]
     },
     "execution_count": 36,
     "metadata": {},
     "output_type": "execute_result"
    }
   ],
   "source": [
    "X_train_cv.toarray()"
   ]
  },
  {
   "cell_type": "code",
   "execution_count": 37,
   "metadata": {},
   "outputs": [
    {
     "data": {
      "text/plain": [
       "(4457, 7793)"
      ]
     },
     "execution_count": 37,
     "metadata": {},
     "output_type": "execute_result"
    }
   ],
   "source": [
    "X_train_cv.shape"
   ]
  },
  {
   "cell_type": "code",
   "execution_count": 40,
   "metadata": {},
   "outputs": [
    {
     "data": {
      "text/plain": [
       "array(['00', '000', '000pes', ..., 'zoom', 'zouk', 'èn'], dtype=object)"
      ]
     },
     "execution_count": 40,
     "metadata": {},
     "output_type": "execute_result"
    }
   ],
   "source": [
    "v.get_feature_names_out()"
   ]
  },
  {
   "cell_type": "code",
   "execution_count": 41,
   "metadata": {},
   "outputs": [
    {
     "data": {
      "text/plain": [
       "(7793,)"
      ]
     },
     "execution_count": 41,
     "metadata": {},
     "output_type": "execute_result"
    }
   ],
   "source": [
    "v.get_feature_names_out().shape"
   ]
  },
  {
   "cell_type": "code",
   "execution_count": 42,
   "metadata": {},
   "outputs": [
    {
     "data": {
      "text/plain": [
       "{'don': 2419,\n",
       " 'look': 4241,\n",
       " 'back': 1193,\n",
       " 'at': 1115,\n",
       " 'the': 6849,\n",
       " 'building': 1553,\n",
       " 'because': 1274,\n",
       " 'you': 7759,\n",
       " 'have': 3395,\n",
       " 'no': 4843,\n",
       " 'coat': 1881,\n",
       " 'and': 958,\n",
       " 'want': 7427,\n",
       " 'to': 6968,\n",
       " 'get': 3153,\n",
       " 'more': 4630,\n",
       " 'sick': 6197,\n",
       " 'just': 3917,\n",
       " 'hurry': 3603,\n",
       " 'home': 3516,\n",
       " 'wear': 7470,\n",
       " 'gym': 3323,\n",
       " 'are': 1048,\n",
       " 'only': 4994,\n",
       " 'girl': 3173,\n",
       " 'waiting': 7405,\n",
       " 'in': 3692,\n",
       " 'reception': 5677,\n",
       " 'ah': 866,\n",
       " 'well': 7502,\n",
       " 'there': 6868,\n",
       " 'pattern': 5171,\n",
       " 'emerging': 2593,\n",
       " 'of': 4941,\n",
       " 'my': 4713,\n",
       " 'friends': 3032,\n",
       " 'telling': 6793,\n",
       " 'me': 4457,\n",
       " 'drive': 2469,\n",
       " 'up': 7227,\n",
       " 'come': 1915,\n",
       " 'smoke': 6305,\n",
       " 'with': 7596,\n",
       " 'them': 6858,\n",
       " 'then': 6862,\n",
       " 'that': 6845,\n",
       " 'weed': 7486,\n",
       " 'fiend': 2852,\n",
       " 'make': 4374,\n",
       " 'too': 7010,\n",
       " 'much': 4680,\n",
       " 'impede': 3678,\n",
       " 'their': 6855,\n",
       " 'doing': 2411,\n",
       " 'other': 5051,\n",
       " 'things': 6881,\n",
       " 'so': 6327,\n",
       " 'see': 6031,\n",
       " 'how': 3566,\n",
       " 'hesitant': 3457,\n",
       " 'from': 3049,\n",
       " '88066': 695,\n",
       " 'lost': 4258,\n",
       " '12': 275,\n",
       " 'help': 3439,\n",
       " 'do': 2387,\n",
       " 'work': 7638,\n",
       " 'all': 907,\n",
       " 'this': 6889,\n",
       " 'week': 7487,\n",
       " 'forget': 2972,\n",
       " 'who': 7546,\n",
       " 'owns': 5092,\n",
       " 'private': 5472,\n",
       " 'property': 5512,\n",
       " 'be': 1264,\n",
       " 'good': 3220,\n",
       " 'boy': 1467,\n",
       " 'always': 926,\n",
       " 'passionate': 5161,\n",
       " 'kiss': 3991,\n",
       " 'free': 3009,\n",
       " 'tones': 6999,\n",
       " 'hope': 3532,\n",
       " 'enjoyed': 2618,\n",
       " 'your': 7765,\n",
       " 'new': 4804,\n",
       " 'content': 1994,\n",
       " 'text': 6822,\n",
       " 'stop': 6537,\n",
       " '61610': 579,\n",
       " 'unsubscribe': 7222,\n",
       " '08712400602450p': 101,\n",
       " 'provided': 5518,\n",
       " 'by': 1591,\n",
       " 'tones2you': 7001,\n",
       " 'co': 1878,\n",
       " 'uk': 7163,\n",
       " 'dont': 2422,\n",
       " 'hear': 3414,\n",
       " 'anything': 998,\n",
       " 'll': 4210,\n",
       " 'pick': 5258,\n",
       " 'about': 753,\n",
       " '15pm': 314,\n",
       " 'go': 3197,\n",
       " 'taunton': 6759,\n",
       " 'if': 3647,\n",
       " 'still': 6525,\n",
       " 'now': 4892,\n",
       " 'got': 3235,\n",
       " 'tv': 7124,\n",
       " 'watch': 7447,\n",
       " 'meh': 4480,\n",
       " 'today': 6975,\n",
       " 'we': 7466,\n",
       " 'any': 991,\n",
       " 'spare': 6400,\n",
       " 'power': 5399,\n",
       " 'supplies': 6661,\n",
       " 'been': 1286,\n",
       " 'specially': 6410,\n",
       " 'selected': 6044,\n",
       " 'receive': 5671,\n",
       " '2000': 348,\n",
       " 'pound': 5394,\n",
       " 'award': 1166,\n",
       " 'call': 1608,\n",
       " '08712402050': 103,\n",
       " 'before': 1290,\n",
       " 'lines': 4179,\n",
       " 'close': 1856,\n",
       " 'cost': 2030,\n",
       " '10ppm': 265,\n",
       " '16': 315,\n",
       " 'cs': 2101,\n",
       " 'apply': 1024,\n",
       " 'ag': 852,\n",
       " 'promo': 5504,\n",
       " 'haha': 3333,\n",
       " 'was': 7439,\n",
       " 'first': 2896,\n",
       " 'person': 5220,\n",
       " 'gonna': 3218,\n",
       " 'ask': 1092,\n",
       " 'house': 3561,\n",
       " 'maid': 4365,\n",
       " 'is': 3796,\n",
       " 'murderer': 4698,\n",
       " 'coz': 2057,\n",
       " 'man': 4383,\n",
       " 'murdered': 4697,\n",
       " 'on': 4985,\n",
       " 'lt': 4296,\n",
       " 'gt': 3295,\n",
       " 'th': 6834,\n",
       " 'january': 3839,\n",
       " 'as': 1083,\n",
       " 'public': 5532,\n",
       " 'holiday': 3512,\n",
       " 'govt': 3245,\n",
       " 'instituitions': 3751,\n",
       " 'closed': 1857,\n",
       " 'including': 3701,\n",
       " 'post': 5382,\n",
       " 'office': 4951,\n",
       " 'understand': 7187,\n",
       " 'its': 3815,\n",
       " 'hard': 3372,\n",
       " 'believe': 1303,\n",
       " 'like': 4162,\n",
       " 'can': 1632,\n",
       " 'say': 5972,\n",
       " 'lie': 4149,\n",
       " 'but': 1577,\n",
       " 'think': 6882,\n",
       " 'twice': 7128,\n",
       " 'saying': 5975,\n",
       " 'around': 1069,\n",
       " 'looking': 4245,\n",
       " 'later': 4076,\n",
       " 'going': 3208,\n",
       " 'tirunelvali': 6948,\n",
       " 'uncle': 7179,\n",
       " 'already': 918,\n",
       " 'spend': 6421,\n",
       " 'amount': 945,\n",
       " 'taking': 6739,\n",
       " 'dress': 2461,\n",
       " 'money': 4616,\n",
       " 'will': 7569,\n",
       " 'give': 3179,\n",
       " 'it': 3808,\n",
       " 'feb': 2824,\n",
       " 'hmmm': 3495,\n",
       " 'mayb': 4449,\n",
       " 'try': 7100,\n",
       " 'shoppin': 6158,\n",
       " 'area': 1049,\n",
       " 'one': 4988,\n",
       " 'forgot': 2977,\n",
       " 'name': 4729,\n",
       " 'hotel': 3553,\n",
       " 'sorry': 6372,\n",
       " 'okie': 4971,\n",
       " 'wan': 7423,\n",
       " 'meet': 4474,\n",
       " 'bishan': 1363,\n",
       " 'cos': 2028,\n",
       " 'not': 4879,\n",
       " 'driving': 2471,\n",
       " 'am': 928,\n",
       " 'real': 5648,\n",
       " 'baby': 1188,\n",
       " 'bring': 1507,\n",
       " 'out': 5062,\n",
       " 'inner': 3735,\n",
       " 'tigress': 6931,\n",
       " 'cutest': 2144,\n",
       " 'world': 7645,\n",
       " 'or': 5025,\n",
       " 'what': 7524,\n",
       " 'lyricalladie': 4323,\n",
       " '21': 356,\n",
       " 'inviting': 3775,\n",
       " 'her': 3451,\n",
       " 'friend': 3031,\n",
       " 'reply': 5765,\n",
       " 'yes': 7742,\n",
       " '910': 716,\n",
       " 'www': 7688,\n",
       " 'sms': 6309,\n",
       " 'ac': 764,\n",
       " 'hmmross': 3497,\n",
       " 'send': 6057,\n",
       " 'frnd': 3040,\n",
       " '62468': 582,\n",
       " 'had': 3331,\n",
       " 'mobile': 4589,\n",
       " '11': 267,\n",
       " 'months': 4626,\n",
       " 'entitled': 2633,\n",
       " 'update': 7231,\n",
       " 'latest': 4077,\n",
       " 'colour': 1907,\n",
       " 'mobiles': 4590,\n",
       " 'camera': 1628,\n",
       " 'for': 2964,\n",
       " '08002986030': 54,\n",
       " 'ok': 4966,\n",
       " 'same': 5939,\n",
       " 'question': 5574,\n",
       " 'he': 3404,\n",
       " 'really': 5655,\n",
       " 'great': 3270,\n",
       " 'bhaji': 1337,\n",
       " 'told': 6985,\n",
       " 'kallis': 3932,\n",
       " 'best': 1322,\n",
       " 'cricketer': 2085,\n",
       " 'after': 847,\n",
       " 'sachin': 5914,\n",
       " 'very': 7321,\n",
       " 'tough': 7034,\n",
       " 'way': 7461,\n",
       " 'transport': 7061,\n",
       " 'less': 4131,\n",
       " 'problematic': 5479,\n",
       " 'than': 6835,\n",
       " 'sat': 5957,\n",
       " 'night': 4824,\n",
       " 'join': 3879,\n",
       " 'bday': 1263,\n",
       " 'feel': 2828,\n",
       " 'need': 4772,\n",
       " 'know': 4005,\n",
       " 'definite': 2234,\n",
       " 'nos': 4875,\n",
       " 'booking': 1426,\n",
       " 'fri': 3026,\n",
       " 'waliking': 7409,\n",
       " 'ard': 1047,\n",
       " 'buy': 1581,\n",
       " 'ur': 7245,\n",
       " 'iz': 3821,\n",
       " 'yellow': 7736,\n",
       " 'rose': 5875,\n",
       " 'day': 2194,\n",
       " 'love': 4273,\n",
       " 'frndship': 3042,\n",
       " 'misscall': 4559,\n",
       " 'amp': 946,\n",
       " 'frndz': 3045,\n",
       " 'many': 4399,\n",
       " 'miss': 4558,\n",
       " 'calls': 1623,\n",
       " '6missed': 607,\n",
       " 'marry': 4415,\n",
       " 'lover': 4278,\n",
       " 'left': 4114,\n",
       " 'orchard': 5031,\n",
       " 'lol': 4232,\n",
       " 'grr': 3291,\n",
       " 'mom': 4609,\n",
       " 'forever': 2969,\n",
       " 'prescription': 5440,\n",
       " 'pharmacy': 5235,\n",
       " 'minutes': 4549,\n",
       " 'away': 1168,\n",
       " 'ugh': 7158,\n",
       " 'sent': 6066,\n",
       " 'bucks': 1542,\n",
       " 'hmph': 3498,\n",
       " 'head': 3405,\n",
       " 'big': 1342,\n",
       " 'baller': 1207,\n",
       " 'sure': 6670,\n",
       " 'take': 6735,\n",
       " 'time': 6936,\n",
       " 'system': 6717,\n",
       " 'sh': 6099,\n",
       " 'ready': 5647,\n",
       " 'also': 921,\n",
       " 'deep': 2226,\n",
       " 'trying': 7102,\n",
       " 'weekend': 7489,\n",
       " 'shuhui': 6191,\n",
       " 'has': 3381,\n",
       " 'bought': 1448,\n",
       " 'ron': 5868,\n",
       " 'present': 5441,\n",
       " 'swatch': 6692,\n",
       " 'gent': 3142,\n",
       " 'contact': 1990,\n",
       " 'last': 4072,\n",
       " 'weekends': 7490,\n",
       " 'draw': 2455,\n",
       " 'shows': 6183,\n",
       " 'won': 7620,\n",
       " '1000': 254,\n",
       " 'prize': 5474,\n",
       " 'guaranteed': 3299,\n",
       " '09064012160': 203,\n",
       " 'claim': 1828,\n",
       " 'code': 1889,\n",
       " 'k52': 3924,\n",
       " 'valid': 7289,\n",
       " '12hrs': 285,\n",
       " '150ppm': 307,\n",
       " 'engalnd': 2613,\n",
       " 'telly': 6795,\n",
       " 'decided': 2216,\n",
       " 'let': 4135,\n",
       " 'mia': 4517,\n",
       " 'elliot': 2581,\n",
       " 'were': 7510,\n",
       " 'kissing': 3993,\n",
       " 'damn': 2164,\n",
       " 'kinda': 3984,\n",
       " 'gets': 3157,\n",
       " 'twelve': 7126,\n",
       " 'aah': 740,\n",
       " 'speak': 6404,\n",
       " 'tomo': 6994,\n",
       " 'someone': 6343,\n",
       " 'asked': 1094,\n",
       " 'our': 5059,\n",
       " 'dating': 2189,\n",
       " 'service': 6077,\n",
       " 'cant': 1643,\n",
       " 'guess': 3305,\n",
       " '09058097189': 178,\n",
       " 'revealed': 5817,\n",
       " 'pobox': 5323,\n",
       " 'ls15hb': 4293,\n",
       " '150p': 303,\n",
       " 'shit': 6144,\n",
       " 'shocking': 6153,\n",
       " 'scary': 5982,\n",
       " 'imagine': 3668,\n",
       " 'second': 6018,\n",
       " 'def': 2231,\n",
       " 'somewhere': 6353,\n",
       " 'could': 2040,\n",
       " 'crash': 2066,\n",
       " 'save': 5968,\n",
       " 'taxi': 6761,\n",
       " '645': 586,\n",
       " 'dun': 2499,\n",
       " 'sch': 5985,\n",
       " 'message': 4506,\n",
       " 'some': 6340,\n",
       " 'missing': 4562,\n",
       " 'sender': 6058,\n",
       " 'number': 4905,\n",
       " 'date': 2186,\n",
       " 'lot': 4259,\n",
       " 'thats': 6848,\n",
       " 'everything': 2697,\n",
       " 'via': 7324,\n",
       " 'fullonsms': 3070,\n",
       " 'com': 1910,\n",
       " 'textbuddy': 6826,\n",
       " 'chat': 1749,\n",
       " 'horny': 3542,\n",
       " 'guys': 3320,\n",
       " '25p': 370,\n",
       " 'search': 6013,\n",
       " 'postcode': 5385,\n",
       " 'gaytextbuddy': 3126,\n",
       " 'txt': 7135,\n",
       " '89693': 705,\n",
       " 'hi': 3463,\n",
       " 'better': 1327,\n",
       " 'responce': 5791,\n",
       " 'happend': 3362,\n",
       " 'mates': 4431,\n",
       " 'phone': 5244,\n",
       " 'didnt': 2316,\n",
       " 'write': 7668,\n",
       " 'kate': 3941,\n",
       " 'leave': 4108,\n",
       " 'put': 5555,\n",
       " 'why': 7554,\n",
       " 'saw': 5971,\n",
       " 'da': 2154,\n",
       " 'kick': 3970,\n",
       " 'coco': 1888,\n",
       " 'when': 7531,\n",
       " 'down': 2441,\n",
       " 'applausestore': 1020,\n",
       " 'monthlysubscription': 4625,\n",
       " '50p': 546,\n",
       " 'msg': 4662,\n",
       " 'max6': 4445,\n",
       " 'month': 4623,\n",
       " 'csc': 2103,\n",
       " 'web': 7475,\n",
       " 'age16': 857,\n",
       " '2stop': 415,\n",
       " 'storming': 6549,\n",
       " 'wen': 7505,\n",
       " 'lift': 4155,\n",
       " 'phne': 5242,\n",
       " 'hello': 3436,\n",
       " 'knw': 4009,\n",
       " 'wt': 7680,\n",
       " 'meaning': 4461,\n",
       " 'dat': 2184,\n",
       " 'margaret': 4406,\n",
       " 'she': 6122,\n",
       " 'girlfrnd': 3174,\n",
       " 'grahmbell': 3252,\n",
       " 'invnted': 3776,\n",
       " 'telphone': 6796,\n",
       " 'moral': 4629,\n",
       " '4get': 521,\n",
       " 'bt': 1537,\n",
       " 'his': 3481,\n",
       " 'allo': 911,\n",
       " 'braved': 1483,\n",
       " 'buses': 1572,\n",
       " 'taken': 6736,\n",
       " 'trains': 7051,\n",
       " 'triumphed': 7084,\n",
       " 'mean': 4460,\n",
       " 're': 5636,\n",
       " 'ham': 3345,\n",
       " 'jolly': 3885,\n",
       " 'rest': 5796,\n",
       " 'piggy': 5271,\n",
       " 'awake': 1165,\n",
       " 'bet': 1324,\n",
       " 'sleeping': 6267,\n",
       " 'lunch': 4308,\n",
       " 'aiyar': 882,\n",
       " 'type': 7149,\n",
       " 'tell': 6792,\n",
       " 'scold': 5990,\n",
       " 'hey': 3459,\n",
       " 'morning': 4633,\n",
       " 'pa': 5098,\n",
       " 'prashanthettan': 5418,\n",
       " 'mother': 4640,\n",
       " 'passed': 5158,\n",
       " 'pray': 5420,\n",
       " 'family': 2791,\n",
       " 'fr': 2998,\n",
       " 'haf': 3332,\n",
       " 'book': 1423,\n",
       " 'although': 924,\n",
       " 'into': 3764,\n",
       " 'baig': 1201,\n",
       " 'face': 2765,\n",
       " 'watches': 7449,\n",
       " 'gave': 3122,\n",
       " 'thanx': 6843,\n",
       " 've': 7307,\n",
       " 'done': 2421,\n",
       " 'touched': 7033,\n",
       " 'care': 1656,\n",
       " 'bad': 1195,\n",
       " 'princess': 5464,\n",
       " 'email': 2587,\n",
       " 'id': 3635,\n",
       " 'soon': 6365,\n",
       " 'eerie': 2551,\n",
       " 'nokia': 4853,\n",
       " '4u': 534,\n",
       " 'rply': 5886,\n",
       " 'tone': 6998,\n",
       " 'title': 6951,\n",
       " '8007': 639,\n",
       " 'eg': 2557,\n",
       " 'dracula': 2450,\n",
       " 'titles': 6952,\n",
       " 'ghost': 3164,\n",
       " 'addamsfa': 806,\n",
       " 'munsters': 4694,\n",
       " 'exorcist': 2732,\n",
       " 'twilight': 7130,\n",
       " 'getzed': 3162,\n",
       " 'pobox36504w45wq': 5329,\n",
       " 'watching': 7451,\n",
       " 'surya': 6681,\n",
       " 'movie': 4652,\n",
       " 'pm': 5319,\n",
       " 'vijay': 7339,\n",
       " 'pokkiri': 5343,\n",
       " 'pls': 5313,\n",
       " 'happen': 3361,\n",
       " 'yet': 7745,\n",
       " 'hold': 3508,\n",
       " 'him': 3474,\n",
       " 'nothing': 4884,\n",
       " 'partnership': 5151,\n",
       " 'lead': 4099,\n",
       " 'late': 4074,\n",
       " 'ever': 2687,\n",
       " 'swing': 6705,\n",
       " 'sweets': 6701,\n",
       " 'theory': 6865,\n",
       " 'argument': 1057,\n",
       " 'wins': 7582,\n",
       " 'situation': 6240,\n",
       " 'loses': 4255,\n",
       " 'argue': 1055,\n",
       " 'correct': 2024,\n",
       " 'eatin': 2533,\n",
       " 'wif': 7561,\n",
       " 'frens': 3022,\n",
       " 'lei': 4121,\n",
       " 'sell': 6049,\n",
       " 'tons': 7008,\n",
       " 'coins': 1894,\n",
       " 'thru': 6915,\n",
       " 'paypal': 5183,\n",
       " 'voila': 7372,\n",
       " 'life': 4151,\n",
       " 'pockets': 5335,\n",
       " 'booked': 1424,\n",
       " 'kb': 3947,\n",
       " 'lessons': 4134,\n",
       " 'keep': 3950,\n",
       " 'confirm': 1968,\n",
       " 'lodging': 4225,\n",
       " 'did': 2313,\n",
       " 'catch': 1686,\n",
       " 'bus': 1570,\n",
       " 'frying': 3057,\n",
       " 'an': 954,\n",
       " 'egg': 2559,\n",
       " 'tea': 6771,\n",
       " 'eating': 2534,\n",
       " 'over': 5078,\n",
       " 'dinner': 2343,\n",
       " 'luton': 4312,\n",
       " '0125698789': 7,\n",
       " 'ring': 5838,\n",
       " 'erm': 2651,\n",
       " 'ill': 3660,\n",
       " '45pm': 506,\n",
       " 'enough': 2623,\n",
       " 'park': 5142,\n",
       " 'find': 2877,\n",
       " 'called': 1615,\n",
       " 'falling': 2786,\n",
       " 'bcoz': 1258,\n",
       " 'force': 2965,\n",
       " 'yourself': 7769,\n",
       " 'fall': 2784,\n",
       " 'smeone': 6298,\n",
       " 'bslvyl': 1533,\n",
       " 'spook': 6445,\n",
       " 'mob': 4587,\n",
       " 'halloween': 3344,\n",
       " 'collection': 1904,\n",
       " 'logo': 4229,\n",
       " 'pic': 5257,\n",
       " 'plus': 5317,\n",
       " 'card': 1653,\n",
       " 'zed': 7786,\n",
       " '08701417012150p': 77,\n",
       " 'per': 5200,\n",
       " 'oops': 5004,\n",
       " 'check': 1758,\n",
       " 'mind': 4534,\n",
       " 'picking': 5260,\n",
       " 'half': 3341,\n",
       " 'eight': 2564,\n",
       " 'station': 6499,\n",
       " 'would': 7659,\n",
       " 'congratulations': 1975,\n",
       " 'awarded': 1167,\n",
       " 'either': 2568,\n",
       " '500': 541,\n",
       " 'cd': 1699,\n",
       " 'gift': 3167,\n",
       " 'vouchers': 7380,\n",
       " 'entry': 2636,\n",
       " '100': 253,\n",
       " 'weekly': 7491,\n",
       " 'music': 4701,\n",
       " '87066': 686,\n",
       " 'tncs': 6967,\n",
       " 'ldew': 4095,\n",
       " 'com1win150ppmx3age16': 1911,\n",
       " 'lay': 4089,\n",
       " 'missed': 4560,\n",
       " 'thought': 6901,\n",
       " 'off': 4942,\n",
       " 'bimbo': 1353,\n",
       " 'ugo': 7159,\n",
       " 'numbers': 4906,\n",
       " 'appreciate': 1028,\n",
       " 'safe': 5920,\n",
       " 'outta': 5076,\n",
       " 'class': 1837,\n",
       " 'barred': 1227,\n",
       " 'stores': 6547,\n",
       " 'twat': 7125,\n",
       " 'orange': 5028,\n",
       " 'dungerees': 2500,\n",
       " 'came': 1627,\n",
       " 'wanted': 7429,\n",
       " 'decking': 2222,\n",
       " 'punch': 5539,\n",
       " 'december': 2214,\n",
       " '11mths': 273,\n",
       " 'vco': 7305,\n",
       " '08002986906': 55,\n",
       " 'trust': 7097,\n",
       " 'stuff': 6587,\n",
       " 'asap': 1084,\n",
       " 'moji': 4606,\n",
       " 'words': 7637,\n",
       " 'rich': 5830,\n",
       " 'diet': 2321,\n",
       " 'ate': 1116,\n",
       " 'slices': 6273,\n",
       " 'pizza': 5284,\n",
       " 'yesterday': 7744,\n",
       " 'where': 7535,\n",
       " 'opening': 5009,\n",
       " 'mca': 4453,\n",
       " 'cheers': 1768,\n",
       " 'tex': 6820,\n",
       " 'mecause': 4468,\n",
       " 'werebored': 7511,\n",
       " 'yeah': 7731,\n",
       " 'okden': 4969,\n",
       " 'hunny': 3600,\n",
       " 'uin': 7161,\n",
       " 'wk': 7603,\n",
       " 'sound': 6382,\n",
       " 'likeyour': 4166,\n",
       " 'havin': 3399,\n",
       " 'gr8fun': 3249,\n",
       " 'updat': 7230,\n",
       " 'countinlots': 2045,\n",
       " 'loveme': 4277,\n",
       " 'xxxxx': 7709,\n",
       " 'snow': 6323,\n",
       " 'kind': 3983,\n",
       " 'weather': 7474,\n",
       " 'brings': 1509,\n",
       " 'ppl': 5401,\n",
       " 'together': 6979,\n",
       " 'friendships': 3035,\n",
       " 'grow': 3287,\n",
       " 'drugdealer': 2479,\n",
       " 'keeping': 3951,\n",
       " 'maybe': 4450,\n",
       " 'return': 5811,\n",
       " 'immediately': 3674,\n",
       " 'something': 6348,\n",
       " 'bsn': 1534,\n",
       " 'advising': 832,\n",
       " 'should': 6169,\n",
       " 'stalking': 6475,\n",
       " 'club': 1865,\n",
       " 'fink': 2888,\n",
       " 'met': 4513,\n",
       " 'gr8': 3248,\n",
       " 'please': 5306,\n",
       " '2day': 383,\n",
       " 'wiv': 7601,\n",
       " '09099726553': 246,\n",
       " 'promised': 5502,\n",
       " 'carlie': 1664,\n",
       " 'minmobsmore': 4541,\n",
       " 'lkpobox177hp51fl': 4209,\n",
       " 'order': 5032,\n",
       " 'slippers': 6278,\n",
       " 'pay': 5175,\n",
       " 'returning': 5813,\n",
       " 'barely': 1223,\n",
       " 'room': 5869,\n",
       " 'two': 7133,\n",
       " 'us': 7259,\n",
       " 'fucking': 3061,\n",
       " 'shoes': 6154,\n",
       " 'course': 2051,\n",
       " 'tease': 6779,\n",
       " 'simply': 6217,\n",
       " 'must': 4704,\n",
       " 'grins': 3281,\n",
       " 'posted': 5386,\n",
       " 'prey': 5458,\n",
       " 'loving': 4283,\n",
       " 'smile': 6300,\n",
       " 'devouring': 2298,\n",
       " 'sunday': 6645,\n",
       " 'cthen': 2108,\n",
       " 'thk': 6890,\n",
       " 'shd': 6121,\n",
       " 'enuff': 2639,\n",
       " 'conclusion': 1961,\n",
       " 'contents': 1995,\n",
       " 'pg': 5233,\n",
       " 'references': 5697,\n",
       " 'cover': 2055,\n",
       " 'alright': 919,\n",
       " 'mins': 4546,\n",
       " 'probably': 5477,\n",
       " 'secret': 6021,\n",
       " 'admirer': 817,\n",
       " 'they': 6875,\n",
       " 'reveal': 5816,\n",
       " 'thinks': 6886,\n",
       " 'special': 6406,\n",
       " '09058094594': 175,\n",
       " 'years': 7733,\n",
       " 'eve': 2680,\n",
       " 'went': 7508,\n",
       " 'party': 5153,\n",
       " 'boyfriend': 1469,\n",
       " 'si': 6195,\n",
       " 'space': 6393,\n",
       " 'invaders': 3768,\n",
       " 'chance': 1725,\n",
       " 'win': 7572,\n",
       " 'orig': 5041,\n",
       " 'arcade': 1045,\n",
       " 'game': 3101,\n",
       " 'console': 1987,\n",
       " 'press': 5446,\n",
       " 'games': 3102,\n",
       " 'std': 6506,\n",
       " 'wap': 7432,\n",
       " 'charge': 1737,\n",
       " 'o2': 4924,\n",
       " 'terms': 6810,\n",
       " 'settings': 6083,\n",
       " 'purchase': 5545,\n",
       " 'nope': 4865,\n",
       " 'pump': 5538,\n",
       " 'petrol': 5232,\n",
       " 'lor': 4252,\n",
       " 'rain': 5597,\n",
       " 'loxahatchee': 4288,\n",
       " 'xmas': 7699,\n",
       " 'tree': 7075,\n",
       " 'burning': 1566,\n",
       " 'totally': 7030,\n",
       " 'stars': 6486,\n",
       " 'here': 3452,\n",
       " 'quite': 5581,\n",
       " 'funny': 3079,\n",
       " 'wat': 7446,\n",
       " 'run': 5904,\n",
       " 'shorter': 6165,\n",
       " 'distance': 2370,\n",
       " 'calicut': 1606,\n",
       " 'themob': 6861,\n",
       " 'newest': 4806,\n",
       " 'selection': 6045,\n",
       " 'gossip': 3234,\n",
       " 'babes': 1186,\n",
       " 'sport': 6448,\n",
       " 'fit': 2900,\n",
       " 'funky': 3078,\n",
       " '82468': 657,\n",
       " 'awesome': 1169,\n",
       " '8th': 712,\n",
       " 'usf': 7269,\n",
       " 'tonight': 7005,\n",
       " 'hav': 3391,\n",
       " 'almost': 915,\n",
       " 'reached': 5639,\n",
       " 'unable': 7175,\n",
       " 'connect': 1976,\n",
       " 'lemme': 4123,\n",
       " 'goin': 3206,\n",
       " 'ffffffffff': 2846,\n",
       " 'sooner': 6366,\n",
       " 'honey': 3521,\n",
       " 'sweetheart': 6699,\n",
       " 'darling': 2178,\n",
       " 'sexy': 6094,\n",
       " 'buns': 1561,\n",
       " 'sugar': 6627,\n",
       " 'plum': 5314,\n",
       " 'loverboy': 4279,\n",
       " 'boytoy': 1471,\n",
       " 'smacks': 6287,\n",
       " 'ass': 1101,\n",
       " 'major': 4373,\n",
       " 'roles': 5864,\n",
       " 'community': 1927,\n",
       " 'outreach': 5070,\n",
       " 'rock': 5857,\n",
       " 'mel': 4483,\n",
       " 'christmas': 1817,\n",
       " 'occasion': 4933,\n",
       " 'celebrated': 1706,\n",
       " 'reflection': 5700,\n",
       " 'values': 7294,\n",
       " 'desires': 2278,\n",
       " 'affections': 840,\n",
       " 'traditions': 7045,\n",
       " 'ideal': 3638,\n",
       " 'dear': 2207,\n",
       " 'voucher': 7379,\n",
       " 'holder': 3509,\n",
       " 'weeks': 7492,\n",
       " 'offer': 4947,\n",
       " 'pc': 5184,\n",
       " 'http': 3581,\n",
       " 'tlp': 6959,\n",
       " 'expressoffer': 2753,\n",
       " 'ts': 7103,\n",
       " 'texts': 6832,\n",
       " '80062': 638,\n",
       " 'urgent': 7249,\n",
       " '09064017295': 205,\n",
       " 'im': 3664,\n",
       " 'gonnamissu': 3219,\n",
       " 'il': 3658,\n",
       " 'postcard': 5384,\n",
       " 'buttheres': 1579,\n",
       " 'aboutas': 754,\n",
       " 'merememberin': 4502,\n",
       " 'asthere': 1107,\n",
       " 'ofsi': 4956,\n",
       " 'breakin': 1492,\n",
       " 'contract': 1999,\n",
       " 'luv': 4313,\n",
       " 'yaxx': 7727,\n",
       " 'aren': 1050,\n",
       " 'coming': 1921,\n",
       " 'between': 1330,\n",
       " 'right': 5834,\n",
       " 'shower': 6177,\n",
       " 'freemsg': 3016,\n",
       " '86888': 684,\n",
       " 'reward': 5822,\n",
       " 'hours': 3560,\n",
       " 'talk': 6742,\n",
       " 'use': 7263,\n",
       " 'subscribe6gbp': 6603,\n",
       " 'mnth': 4583,\n",
       " 'inc': 3694,\n",
       " '3hrs': 465,\n",
       " 'txtstop': 7145,\n",
       " 'relieved': 5727,\n",
       " 'westonzoyland': 7519,\n",
       " 'plan': 5290,\n",
       " 'end': 2602,\n",
       " '2004': 350,\n",
       " '89545': 703,\n",
       " 'collect': 1901,\n",
       " 'yours': 7768,\n",
       " 'tc': 6767,\n",
       " 'biz': 1369,\n",
       " '2optout': 410,\n",
       " '087187262701': 138,\n",
       " '50gbp': 545,\n",
       " 'mtmsg18': 4675,\n",
       " 'txtauction': 7139,\n",
       " 'others': 5052,\n",
       " 'services': 6078,\n",
       " 'inclusive': 3702,\n",
       " 'credits': 2080,\n",
       " 'gotto': 3243,\n",
       " 'comuk': 1954,\n",
       " 'net': 4790,\n",
       " 'login': 4228,\n",
       " '3qxj9': 473,\n",
       " 'extra': 2755,\n",
       " '08702840625': 81,\n",
       " '220cm2': 361,\n",
       " '9ae': 729,\n",
       " 'decimal': 2218,\n",
       " 'vikky': 7341,\n",
       " 'otside': 5056,\n",
       " 'nw': 4915,\n",
       " 'tht': 6917,\n",
       " '2nd': 406,\n",
       " 'attempt': 1126,\n",
       " 'top': 7018,\n",
       " 'cash': 1676,\n",
       " '200': 347,\n",
       " '09066361921': 219,\n",
       " 'change': 1727,\n",
       " 'field': 2851,\n",
       " 'quickly': 5578,\n",
       " 'wanna': 7426,\n",
       " 'administrator': 816,\n",
       " 'network': 4795,\n",
       " 'babe': 1185,\n",
       " 'xx': 7703,\n",
       " 'oh': 4961,\n",
       " 'meant': 4464,\n",
       " 'yep': 7740,\n",
       " 'jontin': 3889,\n",
       " 'received': 5673,\n",
       " 'understood': 7189,\n",
       " 'acted': 792,\n",
       " 'upon': 7238,\n",
       " 'goal': 3200,\n",
       " 'arsenal': 1076,\n",
       " 'henry': 3449,\n",
       " 'liverpool': 4205,\n",
       " 'scores': 5993,\n",
       " 'simple': 6215,\n",
       " 'shot': 6167,\n",
       " 'yards': 7725,\n",
       " 'pass': 5156,\n",
       " 'bergkamp': 1320,\n",
       " 'margin': 4407,\n",
       " '78': 625,\n",
       " 'cashed': 1678,\n",
       " 'case': 1675,\n",
       " 'collecting': 1903,\n",
       " 'during': 2505,\n",
       " 'cause': 1691,\n",
       " 'announced': 973,\n",
       " 'blog': 1388,\n",
       " 'hols': 3514,\n",
       " 'bit': 1364,\n",
       " 'hairdressers': 3339,\n",
       " 'appointment': 1027,\n",
       " 'four': 2994,\n",
       " 'beforehand': 1291,\n",
       " 'does': 2397,\n",
       " 'prob': 5476,\n",
       " 'yar': 7723,\n",
       " 'wait': 7402,\n",
       " 'mum': 4687,\n",
       " 'finish': 2883,\n",
       " 'whole': 7548,\n",
       " 'stay': 6501,\n",
       " 'clean': 1843,\n",
       " 'hee': 3427,\n",
       " 'em': 2586,\n",
       " 'wtc': 7681,\n",
       " 'far': 2801,\n",
       " 'weiyi': 7499,\n",
       " 'dunno': 2501,\n",
       " 'den': 2256,\n",
       " 'might': 4523,\n",
       " 'able': 752,\n",
       " 'garden': 3111,\n",
       " 'summer': 6639,\n",
       " 'bulbs': 1555,\n",
       " 'seeds': 6032,\n",
       " 'worth': 7654,\n",
       " '33': 447,\n",
       " '50': 540,\n",
       " 'scotsman': 5997,\n",
       " 'saturday': 5964,\n",
       " 'go2': 3198,\n",
       " 'notxt': 4889,\n",
       " 'hack': 3330,\n",
       " 'backdoor': 1194,\n",
       " '121': 277,\n",
       " 'rooms': 5873,\n",
       " 'fraction': 2999,\n",
       " 'neo69': 4787,\n",
       " ...}"
      ]
     },
     "execution_count": 42,
     "metadata": {},
     "output_type": "execute_result"
    }
   ],
   "source": [
    "v.vocabulary_"
   ]
  },
  {
   "cell_type": "code",
   "execution_count": 45,
   "metadata": {},
   "outputs": [
    {
     "data": {
      "text/plain": [
       "array([0, 0, 0, ..., 0, 0, 0], dtype=int64)"
      ]
     },
     "execution_count": 45,
     "metadata": {},
     "output_type": "execute_result"
    }
   ],
   "source": [
    "X_train_np=X_train_cv.toarray()\n",
    "X_train_np[0]"
   ]
  },
  {
   "cell_type": "code",
   "execution_count": 47,
   "metadata": {},
   "outputs": [
    {
     "data": {
      "text/plain": [
       "(array([ 958, 1115, 1193, 1274, 1553, 1881, 2419, 3153, 3323, 3395, 3516,\n",
       "        3603, 3917, 4241, 4630, 4843, 6197, 6849, 6968, 7427, 7470, 7759],\n",
       "       dtype=int64),)"
      ]
     },
     "execution_count": 47,
     "metadata": {},
     "output_type": "execute_result"
    }
   ],
   "source": [
    "np.where(X_train_np[0]!=0) #the values in output is the vector number of email"
   ]
  },
  {
   "cell_type": "code",
   "execution_count": 53,
   "metadata": {},
   "outputs": [
    {
     "data": {
      "text/plain": [
       "\"Don't look back at the building because you have no coat and i don't want you to get more sick. Just hurry home and wear a coat to the gym!!!\""
      ]
     },
     "execution_count": 53,
     "metadata": {},
     "output_type": "execute_result"
    }
   ],
   "source": [
    "X_train[1431]"
   ]
  },
  {
   "cell_type": "code",
   "execution_count": 56,
   "metadata": {},
   "outputs": [
    {
     "data": {
      "text/plain": [
       "2"
      ]
     },
     "execution_count": 56,
     "metadata": {},
     "output_type": "execute_result"
    }
   ],
   "source": [
    "X_train_np[0][958] #bcz \"and\" comes twice in email"
   ]
  },
  {
   "cell_type": "code",
   "execution_count": 61,
   "metadata": {},
   "outputs": [
    {
     "data": {
      "text/plain": [
       "'and'"
      ]
     },
     "execution_count": 61,
     "metadata": {},
     "output_type": "execute_result"
    }
   ],
   "source": [
    "v.get_feature_names_out()[958]"
   ]
  },
  {
   "cell_type": "code",
   "execution_count": 62,
   "metadata": {},
   "outputs": [
    {
     "data": {
      "text/html": [
       "<style>#sk-container-id-1 {color: black;}#sk-container-id-1 pre{padding: 0;}#sk-container-id-1 div.sk-toggleable {background-color: white;}#sk-container-id-1 label.sk-toggleable__label {cursor: pointer;display: block;width: 100%;margin-bottom: 0;padding: 0.3em;box-sizing: border-box;text-align: center;}#sk-container-id-1 label.sk-toggleable__label-arrow:before {content: \"▸\";float: left;margin-right: 0.25em;color: #696969;}#sk-container-id-1 label.sk-toggleable__label-arrow:hover:before {color: black;}#sk-container-id-1 div.sk-estimator:hover label.sk-toggleable__label-arrow:before {color: black;}#sk-container-id-1 div.sk-toggleable__content {max-height: 0;max-width: 0;overflow: hidden;text-align: left;background-color: #f0f8ff;}#sk-container-id-1 div.sk-toggleable__content pre {margin: 0.2em;color: black;border-radius: 0.25em;background-color: #f0f8ff;}#sk-container-id-1 input.sk-toggleable__control:checked~div.sk-toggleable__content {max-height: 200px;max-width: 100%;overflow: auto;}#sk-container-id-1 input.sk-toggleable__control:checked~label.sk-toggleable__label-arrow:before {content: \"▾\";}#sk-container-id-1 div.sk-estimator input.sk-toggleable__control:checked~label.sk-toggleable__label {background-color: #d4ebff;}#sk-container-id-1 div.sk-label input.sk-toggleable__control:checked~label.sk-toggleable__label {background-color: #d4ebff;}#sk-container-id-1 input.sk-hidden--visually {border: 0;clip: rect(1px 1px 1px 1px);clip: rect(1px, 1px, 1px, 1px);height: 1px;margin: -1px;overflow: hidden;padding: 0;position: absolute;width: 1px;}#sk-container-id-1 div.sk-estimator {font-family: monospace;background-color: #f0f8ff;border: 1px dotted black;border-radius: 0.25em;box-sizing: border-box;margin-bottom: 0.5em;}#sk-container-id-1 div.sk-estimator:hover {background-color: #d4ebff;}#sk-container-id-1 div.sk-parallel-item::after {content: \"\";width: 100%;border-bottom: 1px solid gray;flex-grow: 1;}#sk-container-id-1 div.sk-label:hover label.sk-toggleable__label {background-color: #d4ebff;}#sk-container-id-1 div.sk-serial::before {content: \"\";position: absolute;border-left: 1px solid gray;box-sizing: border-box;top: 0;bottom: 0;left: 50%;z-index: 0;}#sk-container-id-1 div.sk-serial {display: flex;flex-direction: column;align-items: center;background-color: white;padding-right: 0.2em;padding-left: 0.2em;position: relative;}#sk-container-id-1 div.sk-item {position: relative;z-index: 1;}#sk-container-id-1 div.sk-parallel {display: flex;align-items: stretch;justify-content: center;background-color: white;position: relative;}#sk-container-id-1 div.sk-item::before, #sk-container-id-1 div.sk-parallel-item::before {content: \"\";position: absolute;border-left: 1px solid gray;box-sizing: border-box;top: 0;bottom: 0;left: 50%;z-index: -1;}#sk-container-id-1 div.sk-parallel-item {display: flex;flex-direction: column;z-index: 1;position: relative;background-color: white;}#sk-container-id-1 div.sk-parallel-item:first-child::after {align-self: flex-end;width: 50%;}#sk-container-id-1 div.sk-parallel-item:last-child::after {align-self: flex-start;width: 50%;}#sk-container-id-1 div.sk-parallel-item:only-child::after {width: 0;}#sk-container-id-1 div.sk-dashed-wrapped {border: 1px dashed gray;margin: 0 0.4em 0.5em 0.4em;box-sizing: border-box;padding-bottom: 0.4em;background-color: white;}#sk-container-id-1 div.sk-label label {font-family: monospace;font-weight: bold;display: inline-block;line-height: 1.2em;}#sk-container-id-1 div.sk-label-container {text-align: center;}#sk-container-id-1 div.sk-container {/* jupyter's `normalize.less` sets `[hidden] { display: none; }` but bootstrap.min.css set `[hidden] { display: none !important; }` so we also need the `!important` here to be able to override the default hidden behavior on the sphinx rendered scikit-learn.org. See: https://github.com/scikit-learn/scikit-learn/issues/21755 */display: inline-block !important;position: relative;}#sk-container-id-1 div.sk-text-repr-fallback {display: none;}</style><div id=\"sk-container-id-1\" class=\"sk-top-container\"><div class=\"sk-text-repr-fallback\"><pre>MultinomialNB()</pre><b>In a Jupyter environment, please rerun this cell to show the HTML representation or trust the notebook. <br />On GitHub, the HTML representation is unable to render, please try loading this page with nbviewer.org.</b></div><div class=\"sk-container\" hidden><div class=\"sk-item\"><div class=\"sk-estimator sk-toggleable\"><input class=\"sk-toggleable__control sk-hidden--visually\" id=\"sk-estimator-id-1\" type=\"checkbox\" checked><label for=\"sk-estimator-id-1\" class=\"sk-toggleable__label sk-toggleable__label-arrow\">MultinomialNB</label><div class=\"sk-toggleable__content\"><pre>MultinomialNB()</pre></div></div></div></div></div>"
      ],
      "text/plain": [
       "MultinomialNB()"
      ]
     },
     "execution_count": 62,
     "metadata": {},
     "output_type": "execute_result"
    }
   ],
   "source": [
    "from sklearn.naive_bayes import MultinomialNB\n",
    "model=MultinomialNB()\n",
    "model.fit(X_train_cv,y_train)"
   ]
  },
  {
   "cell_type": "code",
   "execution_count": 63,
   "metadata": {},
   "outputs": [
    {
     "name": "stdout",
     "output_type": "stream",
     "text": [
      "The history saving thread hit an unexpected error (OperationalError('database or disk is full')).History will not be written to the database.\n"
     ]
    }
   ],
   "source": [
    "X_test_cv=v.transform(X_test)"
   ]
  },
  {
   "cell_type": "code",
   "execution_count": 67,
   "metadata": {},
   "outputs": [
    {
     "name": "stdout",
     "output_type": "stream",
     "text": [
      "              precision    recall  f1-score   support\n",
      "\n",
      "           0       0.98      1.00      0.99       950\n",
      "           1       0.98      0.90      0.94       165\n",
      "\n",
      "    accuracy                           0.98      1115\n",
      "   macro avg       0.98      0.95      0.96      1115\n",
      "weighted avg       0.98      0.98      0.98      1115\n",
      "\n"
     ]
    }
   ],
   "source": [
    "from sklearn.metrics import classification_report\n",
    "y_pred=model.predict(X_test_cv)\n",
    "cls=classification_report(y_test,y_pred)\n",
    "print(cls)"
   ]
  },
  {
   "cell_type": "code",
   "execution_count": 70,
   "metadata": {},
   "outputs": [
    {
     "data": {
      "text/plain": [
       "array([0, 1], dtype=int64)"
      ]
     },
     "execution_count": 70,
     "metadata": {},
     "output_type": "execute_result"
    }
   ],
   "source": [
    "emails=[\n",
    "    'Hey mohan, can we get together to watch footbal game tomorrow?',\n",
    "    'Upto 20% discount on parking, exclusive offer just for you. Dont miss this reward!'\n",
    "]\n",
    "emails_count=v.transform(emails)\n",
    "model.predict(emails_count)"
   ]
  },
  {
   "cell_type": "markdown",
   "metadata": {},
   "source": [
    "Alternative and simple way to classify the spam by using pipeline"
   ]
  },
  {
   "cell_type": "code",
   "execution_count": 71,
   "metadata": {},
   "outputs": [],
   "source": [
    "from sklearn.pipeline import Pipeline\n",
    "clf=Pipeline([\n",
    "    ('vectorizer', CountVectorizer()),\n",
    "    ('nb', MultinomialNB())\n",
    "])"
   ]
  },
  {
   "cell_type": "code",
   "execution_count": 72,
   "metadata": {},
   "outputs": [
    {
     "data": {
      "text/html": [
       "<style>#sk-container-id-2 {color: black;}#sk-container-id-2 pre{padding: 0;}#sk-container-id-2 div.sk-toggleable {background-color: white;}#sk-container-id-2 label.sk-toggleable__label {cursor: pointer;display: block;width: 100%;margin-bottom: 0;padding: 0.3em;box-sizing: border-box;text-align: center;}#sk-container-id-2 label.sk-toggleable__label-arrow:before {content: \"▸\";float: left;margin-right: 0.25em;color: #696969;}#sk-container-id-2 label.sk-toggleable__label-arrow:hover:before {color: black;}#sk-container-id-2 div.sk-estimator:hover label.sk-toggleable__label-arrow:before {color: black;}#sk-container-id-2 div.sk-toggleable__content {max-height: 0;max-width: 0;overflow: hidden;text-align: left;background-color: #f0f8ff;}#sk-container-id-2 div.sk-toggleable__content pre {margin: 0.2em;color: black;border-radius: 0.25em;background-color: #f0f8ff;}#sk-container-id-2 input.sk-toggleable__control:checked~div.sk-toggleable__content {max-height: 200px;max-width: 100%;overflow: auto;}#sk-container-id-2 input.sk-toggleable__control:checked~label.sk-toggleable__label-arrow:before {content: \"▾\";}#sk-container-id-2 div.sk-estimator input.sk-toggleable__control:checked~label.sk-toggleable__label {background-color: #d4ebff;}#sk-container-id-2 div.sk-label input.sk-toggleable__control:checked~label.sk-toggleable__label {background-color: #d4ebff;}#sk-container-id-2 input.sk-hidden--visually {border: 0;clip: rect(1px 1px 1px 1px);clip: rect(1px, 1px, 1px, 1px);height: 1px;margin: -1px;overflow: hidden;padding: 0;position: absolute;width: 1px;}#sk-container-id-2 div.sk-estimator {font-family: monospace;background-color: #f0f8ff;border: 1px dotted black;border-radius: 0.25em;box-sizing: border-box;margin-bottom: 0.5em;}#sk-container-id-2 div.sk-estimator:hover {background-color: #d4ebff;}#sk-container-id-2 div.sk-parallel-item::after {content: \"\";width: 100%;border-bottom: 1px solid gray;flex-grow: 1;}#sk-container-id-2 div.sk-label:hover label.sk-toggleable__label {background-color: #d4ebff;}#sk-container-id-2 div.sk-serial::before {content: \"\";position: absolute;border-left: 1px solid gray;box-sizing: border-box;top: 0;bottom: 0;left: 50%;z-index: 0;}#sk-container-id-2 div.sk-serial {display: flex;flex-direction: column;align-items: center;background-color: white;padding-right: 0.2em;padding-left: 0.2em;position: relative;}#sk-container-id-2 div.sk-item {position: relative;z-index: 1;}#sk-container-id-2 div.sk-parallel {display: flex;align-items: stretch;justify-content: center;background-color: white;position: relative;}#sk-container-id-2 div.sk-item::before, #sk-container-id-2 div.sk-parallel-item::before {content: \"\";position: absolute;border-left: 1px solid gray;box-sizing: border-box;top: 0;bottom: 0;left: 50%;z-index: -1;}#sk-container-id-2 div.sk-parallel-item {display: flex;flex-direction: column;z-index: 1;position: relative;background-color: white;}#sk-container-id-2 div.sk-parallel-item:first-child::after {align-self: flex-end;width: 50%;}#sk-container-id-2 div.sk-parallel-item:last-child::after {align-self: flex-start;width: 50%;}#sk-container-id-2 div.sk-parallel-item:only-child::after {width: 0;}#sk-container-id-2 div.sk-dashed-wrapped {border: 1px dashed gray;margin: 0 0.4em 0.5em 0.4em;box-sizing: border-box;padding-bottom: 0.4em;background-color: white;}#sk-container-id-2 div.sk-label label {font-family: monospace;font-weight: bold;display: inline-block;line-height: 1.2em;}#sk-container-id-2 div.sk-label-container {text-align: center;}#sk-container-id-2 div.sk-container {/* jupyter's `normalize.less` sets `[hidden] { display: none; }` but bootstrap.min.css set `[hidden] { display: none !important; }` so we also need the `!important` here to be able to override the default hidden behavior on the sphinx rendered scikit-learn.org. See: https://github.com/scikit-learn/scikit-learn/issues/21755 */display: inline-block !important;position: relative;}#sk-container-id-2 div.sk-text-repr-fallback {display: none;}</style><div id=\"sk-container-id-2\" class=\"sk-top-container\"><div class=\"sk-text-repr-fallback\"><pre>Pipeline(steps=[(&#x27;vectorizer&#x27;, CountVectorizer()), (&#x27;nb&#x27;, MultinomialNB())])</pre><b>In a Jupyter environment, please rerun this cell to show the HTML representation or trust the notebook. <br />On GitHub, the HTML representation is unable to render, please try loading this page with nbviewer.org.</b></div><div class=\"sk-container\" hidden><div class=\"sk-item sk-dashed-wrapped\"><div class=\"sk-label-container\"><div class=\"sk-label sk-toggleable\"><input class=\"sk-toggleable__control sk-hidden--visually\" id=\"sk-estimator-id-2\" type=\"checkbox\" ><label for=\"sk-estimator-id-2\" class=\"sk-toggleable__label sk-toggleable__label-arrow\">Pipeline</label><div class=\"sk-toggleable__content\"><pre>Pipeline(steps=[(&#x27;vectorizer&#x27;, CountVectorizer()), (&#x27;nb&#x27;, MultinomialNB())])</pre></div></div></div><div class=\"sk-serial\"><div class=\"sk-item\"><div class=\"sk-estimator sk-toggleable\"><input class=\"sk-toggleable__control sk-hidden--visually\" id=\"sk-estimator-id-3\" type=\"checkbox\" ><label for=\"sk-estimator-id-3\" class=\"sk-toggleable__label sk-toggleable__label-arrow\">CountVectorizer</label><div class=\"sk-toggleable__content\"><pre>CountVectorizer()</pre></div></div></div><div class=\"sk-item\"><div class=\"sk-estimator sk-toggleable\"><input class=\"sk-toggleable__control sk-hidden--visually\" id=\"sk-estimator-id-4\" type=\"checkbox\" ><label for=\"sk-estimator-id-4\" class=\"sk-toggleable__label sk-toggleable__label-arrow\">MultinomialNB</label><div class=\"sk-toggleable__content\"><pre>MultinomialNB()</pre></div></div></div></div></div></div></div>"
      ],
      "text/plain": [
       "Pipeline(steps=[('vectorizer', CountVectorizer()), ('nb', MultinomialNB())])"
      ]
     },
     "execution_count": 72,
     "metadata": {},
     "output_type": "execute_result"
    }
   ],
   "source": [
    "clf.fit(X_train, y_train)"
   ]
  },
  {
   "cell_type": "code",
   "execution_count": 76,
   "metadata": {},
   "outputs": [
    {
     "name": "stdout",
     "output_type": "stream",
     "text": [
      "              precision    recall  f1-score   support\n",
      "\n",
      "           0       0.98      1.00      0.99       950\n",
      "           1       0.98      0.90      0.94       165\n",
      "\n",
      "    accuracy                           0.98      1115\n",
      "   macro avg       0.98      0.95      0.96      1115\n",
      "weighted avg       0.98      0.98      0.98      1115\n",
      "\n"
     ]
    }
   ],
   "source": [
    "y_pred = clf.predict(X_test)\n",
    "print(classification_report (y_test, y_pred))"
   ]
  },
  {
   "cell_type": "code",
   "execution_count": 77,
   "metadata": {},
   "outputs": [
    {
     "data": {
      "text/plain": [
       "array([0, 1], dtype=int64)"
      ]
     },
     "execution_count": 77,
     "metadata": {},
     "output_type": "execute_result"
    }
   ],
   "source": [
    "emails=[\n",
    "    'Hey mohan, can we get together to watch footbal game tomorrow?',\n",
    "    'Upto 20% discount on parking, exclusive offer just for you. Dont miss this reward!'\n",
    "]\n",
    "emails_count=v.transform(emails)\n",
    "model.predict(emails_count)"
   ]
  }
 ],
 "metadata": {
  "kernelspec": {
   "display_name": "Python 3",
   "language": "python",
   "name": "python3"
  },
  "language_info": {
   "codemirror_mode": {
    "name": "ipython",
    "version": 3
   },
   "file_extension": ".py",
   "mimetype": "text/x-python",
   "name": "python",
   "nbconvert_exporter": "python",
   "pygments_lexer": "ipython3",
   "version": "3.10.5"
  }
 },
 "nbformat": 4,
 "nbformat_minor": 2
}
